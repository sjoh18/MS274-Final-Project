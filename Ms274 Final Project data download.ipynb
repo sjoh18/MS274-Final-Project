{
 "cells": [
  {
   "cell_type": "markdown",
   "id": "95113d6f-bd5d-4381-b77f-6dc9cd112875",
   "metadata": {},
   "source": [
    "## MS274 Final Project - Jellyfish blooms in Monterey Bay\n",
    "#### A notebook for downloading relevant data"
   ]
  },
  {
   "cell_type": "code",
   "execution_count": null,
   "id": "19a9d34c-e3c2-4133-8164-6c8cf3e93f41",
   "metadata": {},
   "outputs": [],
   "source": []
  }
 ],
 "metadata": {
  "kernelspec": {
   "display_name": "ms274",
   "language": "python",
   "name": "ms274"
  },
  "language_info": {
   "codemirror_mode": {
    "name": "ipython",
    "version": 3
   },
   "file_extension": ".py",
   "mimetype": "text/x-python",
   "name": "python",
   "nbconvert_exporter": "python",
   "pygments_lexer": "ipython3",
   "version": "3.10.13"
  }
 },
 "nbformat": 4,
 "nbformat_minor": 5
}
