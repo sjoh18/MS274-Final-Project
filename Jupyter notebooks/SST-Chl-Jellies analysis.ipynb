{
 "cells": [
  {
   "cell_type": "markdown",
   "id": "2f0664c3",
   "metadata": {},
   "source": [
    "## Data Analysis"
   ]
  },
  {
   "cell_type": "markdown",
   "id": "cacb935b",
   "metadata": {},
   "source": [
    "#### This notebook is dedicated to performing correlation/MLR calculations on MS274 final project data"
   ]
  },
  {
   "cell_type": "markdown",
   "id": "926741b1",
   "metadata": {},
   "source": [
    "What I need to perform analysis:\n",
    "1. Fix issue w/ 2020 chlorophyll data - download as csv\n",
    "2. Get all chloraphyll data into one csv (currently have 1 csv for each year)"
   ]
  },
  {
   "cell_type": "code",
   "execution_count": null,
   "id": "fd1cb4b7",
   "metadata": {},
   "outputs": [],
   "source": [
    "import os\n",
    "import numpy as np\n",
    "import matplotlib.pyplot as plt\n",
    "import statsmodels.api as sm"
   ]
  },
  {
   "cell_type": "code",
   "execution_count": null,
   "id": "c0dd407f",
   "metadata": {},
   "outputs": [],
   "source": [
    "jellywatch = np.genfromtxt(jelly_folder+'\\\\'+'Jellywatch_sightings_edit.csv', delimiter=',')\n",
    "sst = np.genfromtxt(sst_folder+'\\\\'+'mb_SST.csv', delimiter=',')\n",
    "chlor = np.genfromtxt(chlor_folder+'\\\\'+'CSV NAME ONCE ALL COMBINED.csv', delimiter=',')"
   ]
  },
  {
   "cell_type": "code",
   "execution_count": null,
   "id": "5ffeb2a7",
   "metadata": {},
   "outputs": [],
   "source": [
    "good_indices = ~np.isnan(chlor[:,1])\n",
    "\n",
    "# subset each timeseries to the non-NaN indicies\n",
    "sst_subset = sst[good_indices, :]\n",
    "chlor_subset = chlor[good_indices, :]\n",
    "jellywatch_subset = jellywatch[good_indices, :]"
   ]
  },
  {
   "cell_type": "code",
   "execution_count": null,
   "id": "bee43096",
   "metadata": {},
   "outputs": [],
   "source": [
    "X = np.column_stack([np.ones_like(sst_subset[:,1]), \n",
    "                     sst_subset[:,1], \n",
    "                     jellywatch_subset[:,1]])\n",
    "\n",
    "# form the y variable - reshape it just in case\n",
    "y = jellywatch_subset[:,1]\n",
    "y= np.reshape(y, (len(y), 1))\n",
    "print(np.shape(y))"
   ]
  },
  {
   "cell_type": "code",
   "execution_count": null,
   "id": "da1ae699",
   "metadata": {},
   "outputs": [],
   "source": [
    "model = sm.OLS(y, X).fit()"
   ]
  },
  {
   "cell_type": "code",
   "execution_count": null,
   "id": "78dda1df",
   "metadata": {},
   "outputs": [],
   "source": [
    "model.summary()"
   ]
  },
  {
   "cell_type": "code",
   "execution_count": null,
   "id": "ef36e09d",
   "metadata": {},
   "outputs": [],
   "source": [
    "coefficients = model.params\n",
    "print(coefficients)\n",
    "\n",
    "intercept = coefficients[0]\n",
    "slope_sst = coefficients[1]\n",
    "slope_jellies = coefficients[2]\n",
    "\n",
    "\n",
    "# retrieve the R^2 value from the models.rsquared attribute\n",
    "r2 = model.rsquared"
   ]
  },
  {
   "cell_type": "code",
   "execution_count": null,
   "id": "09781c4f",
   "metadata": {},
   "outputs": [],
   "source": [
    "modeled_values = slope_sst * sst_subset[:,1] + slope_jellies * jellywatch_subset[:,1] + intercept"
   ]
  },
  {
   "cell_type": "code",
   "execution_count": null,
   "id": "49e1b3e6",
   "metadata": {},
   "outputs": [],
   "source": [
    "plt.plot(modeled_values, chlor_subset[:,1], 'g.')\n",
    "\n",
    "# label the x and y axis\n",
    "plt.xlabel('Modeled Chl. (mg/cm$^3$)')\n",
    "plt.ylabel('Observed Chl. (mg/cm$^3$)')\n",
    "\n",
    "# add a label for the R^2\n",
    "plt.text(1.2, 0.6, 'R$^2$ =' +'{:.3f}'.format(r2))\n",
    "\n",
    "# plot the 1-1 line\n",
    "plt.plot([0, 1.8], [0, 1.8], 'k--')\n",
    "\n",
    "# make the axes equal\n",
    "plt.gca().set_xlim([0, 1.8])\n",
    "plt.gca().set_ylim([0, 1.8])"
   ]
  }
 ],
 "metadata": {
  "kernelspec": {
   "display_name": "ms274",
   "language": "python",
   "name": "ms274"
  },
  "language_info": {
   "codemirror_mode": {
    "name": "ipython",
    "version": 3
   },
   "file_extension": ".py",
   "mimetype": "text/x-python",
   "name": "python",
   "nbconvert_exporter": "python",
   "pygments_lexer": "ipython3",
   "version": "3.10.13"
  }
 },
 "nbformat": 4,
 "nbformat_minor": 5
}
