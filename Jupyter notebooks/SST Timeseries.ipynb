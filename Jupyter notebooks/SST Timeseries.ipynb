{
 "cells": [
  {
   "cell_type": "markdown",
   "id": "11931b9c",
   "metadata": {},
   "source": [
    "### SST, Chl-a, and jelly sightings timeseries"
   ]
  },
  {
   "cell_type": "code",
   "execution_count": 1,
   "id": "d86f2f87",
   "metadata": {},
   "outputs": [],
   "source": [
    "import requests\n",
    "import os\n",
    "import argparse\n",
    "import numpy as np\n",
    "import matplotlib.pyplot as plt\n",
    "import netCDF4 as nc4\n",
    "import datetime as dt"
   ]
  },
  {
   "cell_type": "code",
   "execution_count": 2,
   "id": "bdff0048",
   "metadata": {},
   "outputs": [],
   "source": [
    "external_folder = 'D:\\\\Jupyter notebooks\\\\Final Project data\\\\SST'\n",
    "\n",
    "site_longitude = -121.9\n",
    "site_latitude = 36.8"
   ]
  },
  {
   "cell_type": "code",
   "execution_count": 7,
   "id": "8aae3346",
   "metadata": {},
   "outputs": [],
   "source": [
    "sst_data_files = []"
   ]
  },
  {
   "cell_type": "code",
   "execution_count": 8,
   "id": "270bf60e",
   "metadata": {},
   "outputs": [
    {
     "name": "stdout",
     "output_type": "stream",
     "text": [
      "7561\n"
     ]
    }
   ],
   "source": [
    "for file_name in os.listdir(external_folder):\n",
    "    if file_name[-2:] =='nc' and 'MUR' in file_name:\n",
    "        sst_data_files.append(file_name)\n",
    "\n",
    "sst_data_files.sort()\n",
    "\n",
    "print(len(sst_data_files))"
   ]
  },
  {
   "cell_type": "code",
   "execution_count": 9,
   "id": "8f940eb0",
   "metadata": {},
   "outputs": [
    {
     "name": "stdout",
     "output_type": "stream",
     "text": [
      "['2002-09-01' '2002-09-02' '2002-09-03' ... '2023-05-30' '2023-05-31'\n",
      " '2023-06-01']\n"
     ]
    }
   ],
   "source": [
    "sst_date_list = []\n",
    "\n",
    "for file_name in sst_data_files:\n",
    "    if file_name[0:2] == '20':\n",
    "        year = file_name[0:4]\n",
    "        month = file_name[4:6]\n",
    "        day = file_name[6:8]\n",
    "    else:\n",
    "        year = file_name.split('_')[3][0:4]\n",
    "        month = file_name.split('_')[3][4:6]\n",
    "        day = file_name.split('_')[3][6:8]\n",
    "        \n",
    "    sst_date_string = year+'-'+month+'-'+day\n",
    "    sst_date_list.append(sst_date_string)\n",
    "\n",
    "#print(sst_date_list)\n",
    "\n",
    "sst_date_array = np.array(sst_date_list, dtype='datetime64')\n",
    "\n",
    "print(sst_date_array)"
   ]
  },
  {
   "cell_type": "code",
   "execution_count": 10,
   "id": "3dfd70fb",
   "metadata": {},
   "outputs": [],
   "source": [
    "def read_sst_from_file(file_path):\n",
    "\n",
    "    ds = nc4.Dataset(file_path)\n",
    "\n",
    "    mur_lat = np.array(ds.variables['lat'])\n",
    "    mur_lon = np.array(ds.variables['lon'])\n",
    "    mur_sst = np.array(ds.variables['analysed_sst'])\n",
    "\n",
    "    ds.close()\n",
    "    \n",
    "    mur_sst = mur_sst[0,:,:]\n",
    "    \n",
    "    site_longitude = -121.9\n",
    "    site_latitude = 36.8\n",
    "    \n",
    "    lat_index = np.argmin(np.abs(mur_lat-site_latitude))\n",
    "    lon_index = np.argmin(np.abs(mur_lon-site_longitude))\n",
    "    \n",
    "    montbay_sst = mur_sst[lat_index, lon_index]\n",
    "    \n",
    "    return(montbay_sst)"
   ]
  },
  {
   "cell_type": "code",
   "execution_count": 11,
   "id": "c78c480c",
   "metadata": {},
   "outputs": [
    {
     "name": "stdout",
     "output_type": "stream",
     "text": [
      "7561\n"
     ]
    }
   ],
   "source": [
    "sst_values = []\n",
    "\n",
    "for file_name in sst_data_files:\n",
    "    \n",
    "    # define a file path\n",
    "    file_path = external_folder + '\\\\' + file_name\n",
    "\n",
    "    # use the sss function to find the sss value for this file\n",
    "    sst = read_sst_from_file(file_path)\n",
    "\n",
    "    # add the sss value to the list\n",
    "    sst_values.append(sst)\n",
    "    \n",
    "print(len(sst_values))"
   ]
  },
  {
   "cell_type": "code",
   "execution_count": 8,
   "id": "48bb098e",
   "metadata": {},
   "outputs": [
    {
     "name": "stdout",
     "output_type": "stream",
     "text": [
      "2023\n"
     ]
    }
   ],
   "source": [
    "print(year[:5])"
   ]
  },
  {
   "cell_type": "code",
   "execution_count": 12,
   "id": "28df69ad",
   "metadata": {},
   "outputs": [
    {
     "name": "stdout",
     "output_type": "stream",
     "text": [
      "[288.584, 288.45099999999996, 288.138, 287.86499999999995, 287.659]\n"
     ]
    }
   ],
   "source": [
    "print(sst_values[:5])"
   ]
  },
  {
   "cell_type": "markdown",
   "id": "b89f830d",
   "metadata": {},
   "source": [
    "#### Average by month"
   ]
  },
  {
   "cell_type": "code",
   "execution_count": 56,
   "id": "133ad925",
   "metadata": {},
   "outputs": [],
   "source": [
    "monthly_values_degc = []\n",
    "monthly_dates = []\n",
    "monthly_values = []\n",
    "sum = 0\n",
    "count = 0\n",
    "month = 9\n",
    "year = 2002\n",
    "\n",
    "for i in range(len(sst_values)):\n",
    "    date = sst_date_array[i]\n",
    "    value = sst_values[i]\n",
    "    datetime_date = date.astype(dt.datetime)\n",
    "    \n",
    "    if datetime_date.month == month:\n",
    "        sum += value\n",
    "        count += 1\n",
    "    else:\n",
    "        average = sum/count\n",
    "        \n",
    "        monthly_values.append(average)\n",
    "        date_string = str(year) + '-' + '{:02d}'.format(month) + '-' + '15'\n",
    "        monthly_dates.append(date_string)\n",
    "        \n",
    "        sum = value\n",
    "        count = 1\n",
    "        \n",
    "        month = datetime_date.month\n",
    "        year = datetime_date.year\n",
    "    \n",
    "    monthly_dates_array = np.array(monthly_dates, dtype='datetime64')\n",
    "    monthly_values_array = np.array(monthly_values)\n",
    "    monthly_values_degc = []\n",
    "    monthly_values_degc.append((monthly_values_array - 273.15))\n",
    "    monthly_values_degc = np.array(monthly_values_degc)"
   ]
  },
  {
   "cell_type": "code",
   "execution_count": 58,
   "id": "e9062a7a",
   "metadata": {},
   "outputs": [],
   "source": [
    "monthly_values_degc = monthly_values_degc.ravel()"
   ]
  },
  {
   "cell_type": "code",
   "execution_count": 60,
   "id": "5bab3848",
   "metadata": {},
   "outputs": [
    {
     "name": "stdout",
     "output_type": "stream",
     "text": [
      "249\n",
      "249\n"
     ]
    }
   ],
   "source": [
    "print(len(monthly_values))\n",
    "print(len(monthly_values_degc))"
   ]
  },
  {
   "cell_type": "code",
   "execution_count": 59,
   "id": "cf40e59c",
   "metadata": {},
   "outputs": [
    {
     "name": "stdout",
     "output_type": "stream",
     "text": [
      "(249,)\n",
      "(249,)\n"
     ]
    }
   ],
   "source": [
    "print(np.shape(monthly_dates_array))\n",
    "print(np.shape(monthly_values_degc))"
   ]
  },
  {
   "cell_type": "code",
   "execution_count": 62,
   "id": "78467450",
   "metadata": {},
   "outputs": [
    {
     "data": {
      "image/png": "[encoded data removed]",
      "text/plain": [
       "<Figure size 1000x400 with 1 Axes>"
      ]
     },
     "metadata": {},
     "output_type": "display_data"
    }
   ],
   "source": [
    "fig = plt.figure(figsize = (10, 4))\n",
    "\n",
    "#plt.plot(sst_date_array, sst_values, color='red')\n",
    "plt.plot(monthly_dates_array, monthly_values_degc, color='red')\n",
    "\n",
    "plt.ylabel('SST\\n($^{\\circ}$C)')\n",
    "\n",
    "plt.grid(linewidth=0.5, alpha=0.5)"
   ]
  },
  {
   "cell_type": "code",
   "execution_count": 22,
   "id": "cc1ee1ce",
   "metadata": {},
   "outputs": [],
   "source": [
    "# scatterplot of temp and chlor-a?\n",
    "# add chlor-a and jelly data to same plot\n",
    "# other figure for final project should be correlation between sst, chl-a, and jellies\n",
    "# still need Mike to post download code for MODIS data for chl-a"
   ]
  },
  {
   "cell_type": "code",
   "execution_count": 3,
   "id": "77fce134",
   "metadata": {},
   "outputs": [],
   "source": [
    "data_folder = 'D:\\\\Jupyter notebooks\\\\Final Project data\\\\Chlor-a'"
   ]
  },
  {
   "cell_type": "code",
   "execution_count": 4,
   "id": "03965a4d",
   "metadata": {},
   "outputs": [],
   "source": [
    "chlor_data_files = []"
   ]
  },
  {
   "cell_type": "code",
   "execution_count": 5,
   "id": "d6c2e0fa",
   "metadata": {},
   "outputs": [
    {
     "name": "stdout",
     "output_type": "stream",
     "text": [
      "7564\n"
     ]
    }
   ],
   "source": [
    "for file_name in os.listdir(data_folder):\n",
    "    if file_name[:4] =='AQUA':\n",
    "        chlor_data_files.append(file_name)\n",
    "\n",
    "chlor_data_files.sort()\n",
    "\n",
    "print(len(chlor_data_files))"
   ]
  },
  {
   "cell_type": "code",
   "execution_count": 6,
   "id": "bc700204",
   "metadata": {},
   "outputs": [
    {
     "name": "stdout",
     "output_type": "stream",
     "text": [
      "['2002-09-01' '2002-09-02' '2002-09-03' ... '2023-05-30' '2023-05-31'\n",
      " '2023-06-01']\n"
     ]
    }
   ],
   "source": [
    "# AQUA_MODIS.20020901.L3m.DAY.CHL.chlor_a.4km\n",
    "\n",
    "chlor_date_list = []\n",
    "\n",
    "for file_name in chlor_data_files:\n",
    "    if file_name[11:13] == '20':\n",
    "        year = file_name[11:15]\n",
    "        month = file_name[15:17]\n",
    "        day = file_name[17:19]\n",
    "        \n",
    "    chlor_date_string = year+'-'+month+'-'+day\n",
    "    chlor_date_list.append(chlor_date_string)\n",
    "\n",
    "#print(sst_date_list)\n",
    "\n",
    "chlor_date_array = np.array(chlor_date_list, dtype='datetime64')\n",
    "\n",
    "print(chlor_date_array)"
   ]
  },
  {
   "cell_type": "code",
   "execution_count": 7,
   "id": "d8dcb162",
   "metadata": {},
   "outputs": [
    {
     "name": "stdout",
     "output_type": "stream",
     "text": [
      "(7564,)\n"
     ]
    }
   ],
   "source": [
    "print(np.shape(chlor_data_files))"
   ]
  },
  {
   "cell_type": "code",
   "execution_count": 8,
   "id": "c629090e",
   "metadata": {},
   "outputs": [],
   "source": [
    "def read_chl_from_file(file_path):\n",
    "\n",
    "    ds = nc4.Dataset(file_path)\n",
    "\n",
    "    modis_lat = np.array(ds.variables['lat'])\n",
    "    modis_lon = np.array(ds.variables['lon'])\n",
    "    modis_chl = np.array(ds.variables['chlor_a'])\n",
    "\n",
    "    ds.close()\n",
    "    \n",
    "    site_lon = -121.9\n",
    "    site_lat = 36.8\n",
    "    \n",
    "    lat_index_chl = np.argmin(np.abs(modis_lat-site_lat))\n",
    "    lon_index_chl = np.argmin(np.abs(modis_lon-site_lon))\n",
    "    \n",
    "    montbay_chl = modis_chl[lat_index_chl, lon_index_chl]\n",
    "    \n",
    "    return(montbay_chl)"
   ]
  },
  {
   "cell_type": "code",
   "execution_count": 9,
   "id": "0693a02b",
   "metadata": {},
   "outputs": [],
   "source": [
    "chlor_folder = 'D:\\\\Jupyter notebooks\\\\Final Project data\\\\Chlor-a'"
   ]
  },
  {
   "cell_type": "code",
   "execution_count": 10,
   "id": "d3bd6c30",
   "metadata": {},
   "outputs": [
    {
     "ename": "RuntimeError",
     "evalue": "NetCDF: HDF error",
     "output_type": "error",
     "traceback": [
      "\u001b[1;31m---------------------------------------------------------------------------\u001b[0m",
      "\u001b[1;31mRuntimeError\u001b[0m                              Traceback (most recent call last)",
      "Cell \u001b[1;32mIn[10], line 9\u001b[0m\n\u001b[0;32m      6\u001b[0m file_path \u001b[38;5;241m=\u001b[39m chlor_folder \u001b[38;5;241m+\u001b[39m \u001b[38;5;124m'\u001b[39m\u001b[38;5;130;01m\\\\\u001b[39;00m\u001b[38;5;124m'\u001b[39m \u001b[38;5;241m+\u001b[39m file_name\n\u001b[0;32m      8\u001b[0m \u001b[38;5;66;03m# use the sss function to find the sss value for this file\u001b[39;00m\n\u001b[1;32m----> 9\u001b[0m chlor \u001b[38;5;241m=\u001b[39m \u001b[43mread_chl_from_file\u001b[49m\u001b[43m(\u001b[49m\u001b[43mfile_path\u001b[49m\u001b[43m)\u001b[49m\n\u001b[0;32m     11\u001b[0m \u001b[38;5;66;03m# add the sss value to the list\u001b[39;00m\n\u001b[0;32m     12\u001b[0m chl_values\u001b[38;5;241m.\u001b[39mappend(chlor)\n",
      "Cell \u001b[1;32mIn[8], line 7\u001b[0m, in \u001b[0;36mread_chl_from_file\u001b[1;34m(file_path)\u001b[0m\n\u001b[0;32m      5\u001b[0m modis_lat \u001b[38;5;241m=\u001b[39m np\u001b[38;5;241m.\u001b[39marray(ds\u001b[38;5;241m.\u001b[39mvariables[\u001b[38;5;124m'\u001b[39m\u001b[38;5;124mlat\u001b[39m\u001b[38;5;124m'\u001b[39m])\n\u001b[0;32m      6\u001b[0m modis_lon \u001b[38;5;241m=\u001b[39m np\u001b[38;5;241m.\u001b[39marray(ds\u001b[38;5;241m.\u001b[39mvariables[\u001b[38;5;124m'\u001b[39m\u001b[38;5;124mlon\u001b[39m\u001b[38;5;124m'\u001b[39m])\n\u001b[1;32m----> 7\u001b[0m modis_chl \u001b[38;5;241m=\u001b[39m \u001b[43mnp\u001b[49m\u001b[38;5;241;43m.\u001b[39;49m\u001b[43marray\u001b[49m\u001b[43m(\u001b[49m\u001b[43mds\u001b[49m\u001b[38;5;241;43m.\u001b[39;49m\u001b[43mvariables\u001b[49m\u001b[43m[\u001b[49m\u001b[38;5;124;43m'\u001b[39;49m\u001b[38;5;124;43mchlor_a\u001b[39;49m\u001b[38;5;124;43m'\u001b[39;49m\u001b[43m]\u001b[49m\u001b[43m)\u001b[49m\n\u001b[0;32m      9\u001b[0m ds\u001b[38;5;241m.\u001b[39mclose()\n\u001b[0;32m     11\u001b[0m site_lon \u001b[38;5;241m=\u001b[39m \u001b[38;5;241m-\u001b[39m\u001b[38;5;241m121.9\u001b[39m\n",
      "File \u001b[1;32msrc\\netCDF4\\_netCDF4.pyx:4425\u001b[0m, in \u001b[0;36mnetCDF4._netCDF4.Variable.__array__\u001b[1;34m()\u001b[0m\n",
      "File \u001b[1;32msrc\\netCDF4\\_netCDF4.pyx:4973\u001b[0m, in \u001b[0;36mnetCDF4._netCDF4.Variable.__getitem__\u001b[1;34m()\u001b[0m\n",
      "File \u001b[1;32msrc\\netCDF4\\_netCDF4.pyx:5930\u001b[0m, in \u001b[0;36mnetCDF4._netCDF4.Variable._get\u001b[1;34m()\u001b[0m\n",
      "File \u001b[1;32msrc\\netCDF4\\_netCDF4.pyx:2028\u001b[0m, in \u001b[0;36mnetCDF4._netCDF4._ensure_nc_success\u001b[1;34m()\u001b[0m\n",
      "\u001b[1;31mRuntimeError\u001b[0m: NetCDF: HDF error"
     ]
    }
   ],
   "source": [
    "chl_values = []\n",
    "\n",
    "for file_name in chlor_data_files:\n",
    "    \n",
    "    # define a file path\n",
    "    file_path = chlor_folder + '\\\\' + file_name\n",
    "\n",
    "    # use the sss function to find the sss value for this file\n",
    "    chlor = read_chl_from_file(file_path)\n",
    "\n",
    "    # add the sss value to the list\n",
    "    chl_values.append(chlor)\n",
    "    \n",
    "print(len(chl_values))"
   ]
  },
  {
   "cell_type": "code",
   "execution_count": null,
   "id": "8a03874a",
   "metadata": {},
   "outputs": [],
   "source": [
    "fig = plt.figure(figsize = (10, 4))\n",
    "\n",
    "#plt.plot(sst_date_array, sst_values, color='red')\n",
    "plt.plot(monthly_dates_array, monthly_values_degc, color='red', label='SST\\n($^{\\circ}$C)')\n",
    "plt.plot(monthly_dates_array, chl_values, color='green', label='Chl-a Concentration\\n($mg/cm^3$)')\n",
    "\n",
    "plt.legend()\n",
    "\n",
    "plt.grid(linewidth=0.5, alpha=0.5)\n",
    "\n",
    "plt.show()"
   ]
  },
  {
   "cell_type": "code",
   "execution_count": 9,
   "id": "c74e7ade",
   "metadata": {},
   "outputs": [],
   "source": [
    "import re"
   ]
  },
  {
   "cell_type": "code",
   "execution_count": 14,
   "id": "9f24144d",
   "metadata": {},
   "outputs": [
    {
     "name": "stdout",
     "output_type": "stream",
     "text": [
      "Successfully made csv file\n"
     ]
    }
   ],
   "source": [
    "jelly_folder = 'D:\\\\Jupyter notebooks\\\\Final Project data\\\\Jellies'\n",
    "\n",
    "with open(jelly_folder+'\\\\'+\"Jellywatch_sightings.tsv\", 'r') as myfile:  \n",
    "    with open(\"Jellywatch_sightings.csv\", 'w') as csv_file:\n",
    "        for line in myfile:\n",
    "       \n",
    "      # Replace every tab with comma\n",
    "            fileContent = re.sub(\"\\t\", \",\", line)\n",
    "       \n",
    "      # Writing into csv file\n",
    "            csv_file.write(fileContent)\n",
    "\n",
    "# output\n",
    "print(\"Successfully made csv file\")"
   ]
  },
  {
   "cell_type": "code",
   "execution_count": null,
   "id": "7fa985aa",
   "metadata": {},
   "outputs": [],
   "source": []
  }
 ],
 "metadata": {
  "kernelspec": {
   "display_name": "ms274",
   "language": "python",
   "name": "ms274"
  },
  "language_info": {
   "codemirror_mode": {
    "name": "ipython",
    "version": 3
   },
   "file_extension": ".py",
   "mimetype": "text/x-python",
   "name": "python",
   "nbconvert_exporter": "python",
   "pygments_lexer": "ipython3",
   "version": "3.10.13"
  }
 },
 "nbformat": 4,
 "nbformat_minor": 5
}
